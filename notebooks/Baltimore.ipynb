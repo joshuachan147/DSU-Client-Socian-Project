{
 "cells": [
  {
   "cell_type": "markdown",
   "id": "1180822b-baad-4edb-b4d4-094bb9daf72e",
   "metadata": {},
   "source": [
    "# Baltimore Data Classification Modeling"
   ]
  },
  {
   "cell_type": "markdown",
   "id": "30a4bd6a-edb6-4cae-ba6b-7ba3c0cd1038",
   "metadata": {},
   "source": [
    "### by: Tristan Dewing"
   ]
  },
  {
   "cell_type": "markdown",
   "id": "2ebd3242-4c8e-4f6a-a50f-4861eedde90d",
   "metadata": {},
   "source": [
    "## Importing Packages and Dataset"
   ]
  },
  {
   "cell_type": "code",
   "execution_count": 1,
   "id": "9acb3a3e-c6d4-46a0-8535-d3d5fa54d987",
   "metadata": {},
   "outputs": [],
   "source": [
    "import numpy as np\n",
    "import pandas as pd\n",
    "import matplotlib.pyplot as plt"
   ]
  },
  {
   "cell_type": "code",
   "execution_count": 2,
   "id": "57feb5e7-d986-4bdd-bee8-930c4061565e",
   "metadata": {},
   "outputs": [
    {
     "data": {
      "text/html": [
       "<div>\n",
       "<style scoped>\n",
       "    .dataframe tbody tr th:only-of-type {\n",
       "        vertical-align: middle;\n",
       "    }\n",
       "\n",
       "    .dataframe tbody tr th {\n",
       "        vertical-align: top;\n",
       "    }\n",
       "\n",
       "    .dataframe thead th {\n",
       "        text-align: right;\n",
       "    }\n",
       "</style>\n",
       "<table border=\"1\" class=\"dataframe\">\n",
       "  <thead>\n",
       "    <tr style=\"text-align: right;\">\n",
       "      <th></th>\n",
       "      <th>...1</th>\n",
       "      <th>callDate</th>\n",
       "      <th>priority</th>\n",
       "      <th>district</th>\n",
       "      <th>description</th>\n",
       "      <th>callNumber</th>\n",
       "      <th>incidentLocation</th>\n",
       "      <th>Lat</th>\n",
       "      <th>Long</th>\n",
       "      <th>timeOfDay</th>\n",
       "    </tr>\n",
       "  </thead>\n",
       "  <tbody>\n",
       "    <tr>\n",
       "      <th>0</th>\n",
       "      <td>11</td>\n",
       "      <td>2015-07-13</td>\n",
       "      <td>Non-Emergency</td>\n",
       "      <td>CD</td>\n",
       "      <td>FOLLOWUP</td>\n",
       "      <td>P151941014</td>\n",
       "      <td>1500 PENNSYLVANIA AV</td>\n",
       "      <td>39.302243</td>\n",
       "      <td>-76.633075</td>\n",
       "      <td>10.866667</td>\n",
       "    </tr>\n",
       "    <tr>\n",
       "      <th>1</th>\n",
       "      <td>16</td>\n",
       "      <td>2015-07-13</td>\n",
       "      <td>Medium</td>\n",
       "      <td>SE</td>\n",
       "      <td>DISORDERLY</td>\n",
       "      <td>P151941020</td>\n",
       "      <td>3300 E FAYETTE ST</td>\n",
       "      <td>39.295066</td>\n",
       "      <td>-76.570896</td>\n",
       "      <td>10.900000</td>\n",
       "    </tr>\n",
       "    <tr>\n",
       "      <th>2</th>\n",
       "      <td>17</td>\n",
       "      <td>2015-07-13</td>\n",
       "      <td>Low</td>\n",
       "      <td>SE</td>\n",
       "      <td>INVESTIGATE</td>\n",
       "      <td>P151941021</td>\n",
       "      <td>3300 E FAYETTE ST</td>\n",
       "      <td>39.295066</td>\n",
       "      <td>-76.570896</td>\n",
       "      <td>10.883333</td>\n",
       "    </tr>\n",
       "    <tr>\n",
       "      <th>3</th>\n",
       "      <td>20</td>\n",
       "      <td>2015-07-13</td>\n",
       "      <td>Low</td>\n",
       "      <td>NE</td>\n",
       "      <td>OTHER</td>\n",
       "      <td>P151941024</td>\n",
       "      <td>1600 STONEWOOD RD</td>\n",
       "      <td>39.348760</td>\n",
       "      <td>-76.587609</td>\n",
       "      <td>10.900000</td>\n",
       "    </tr>\n",
       "    <tr>\n",
       "      <th>4</th>\n",
       "      <td>22</td>\n",
       "      <td>2015-07-13</td>\n",
       "      <td>Medium</td>\n",
       "      <td>WD</td>\n",
       "      <td>BURGLARY</td>\n",
       "      <td>P151941026</td>\n",
       "      <td>1600 BRUCE CT</td>\n",
       "      <td>39.306700</td>\n",
       "      <td>-76.645785</td>\n",
       "      <td>10.900000</td>\n",
       "    </tr>\n",
       "  </tbody>\n",
       "</table>\n",
       "</div>"
      ],
      "text/plain": [
       "   ...1    callDate       priority district  description  callNumber  \\\n",
       "0    11  2015-07-13  Non-Emergency       CD     FOLLOWUP  P151941014   \n",
       "1    16  2015-07-13         Medium       SE   DISORDERLY  P151941020   \n",
       "2    17  2015-07-13            Low       SE  INVESTIGATE  P151941021   \n",
       "3    20  2015-07-13            Low       NE        OTHER  P151941024   \n",
       "4    22  2015-07-13         Medium       WD     BURGLARY  P151941026   \n",
       "\n",
       "       incidentLocation        Lat       Long  timeOfDay  \n",
       "0  1500 PENNSYLVANIA AV  39.302243 -76.633075  10.866667  \n",
       "1     3300 E FAYETTE ST  39.295066 -76.570896  10.900000  \n",
       "2     3300 E FAYETTE ST  39.295066 -76.570896  10.883333  \n",
       "3     1600 STONEWOOD RD  39.348760 -76.587609  10.900000  \n",
       "4         1600 BRUCE CT  39.306700 -76.645785  10.900000  "
      ]
     },
     "execution_count": 2,
     "metadata": {},
     "output_type": "execute_result"
    }
   ],
   "source": [
    "balt = pd.read_csv(\"../data/processed/processed.csv\")\n",
    "balt = balt.dropna()\n",
    "balt.head()"
   ]
  },
  {
   "cell_type": "markdown",
   "id": "b369ba0c-025c-45a3-8a93-48a265fc4b01",
   "metadata": {
    "tags": []
   },
   "source": [
    "## Exploring Most Frequent Descriptions for Each Priority Level"
   ]
  },
  {
   "cell_type": "code",
   "execution_count": 3,
   "id": "c80c71ac-eee9-4958-8219-5efbd417e01c",
   "metadata": {},
   "outputs": [
    {
     "data": {
      "text/plain": [
       "Medium            349987\n",
       "Low               192766\n",
       "Non-Emergency      49706\n",
       "High               28316\n",
       "Out of Service        88\n",
       "Emergency              9\n",
       "Name: priority, dtype: int64"
      ]
     },
     "execution_count": 3,
     "metadata": {},
     "output_type": "execute_result"
    }
   ],
   "source": [
    "balt.priority.value_counts()"
   ]
  },
  {
   "cell_type": "code",
   "execution_count": 4,
   "id": "17b07809-ba1c-4805-a47c-0f2e0066f305",
   "metadata": {},
   "outputs": [],
   "source": [
    "des_counts = balt.description.groupby(balt.priority).value_counts()"
   ]
  },
  {
   "cell_type": "code",
   "execution_count": 5,
   "id": "9f3e5b4c-c372-4e72-96cd-c067c75440f1",
   "metadata": {},
   "outputs": [
    {
     "data": {
      "text/plain": [
       "description\n",
       "OTHER          64888\n",
       "INVESTIGATE    55474\n",
       "LARCENY        28090\n",
       "TRANSPORT      23998\n",
       "INVEST          6750\n",
       "ESCORT          2304\n",
       "NOTIFY          2020\n",
       "MISTAKE         1043\n",
       "DWI              857\n",
       "BAILOUT          708\n",
       "Name: description, dtype: int64"
      ]
     },
     "execution_count": 5,
     "metadata": {},
     "output_type": "execute_result"
    }
   ],
   "source": [
    "des_counts['Low'][:10]"
   ]
  },
  {
   "cell_type": "code",
   "execution_count": 6,
   "id": "851e4ead-6d91-4afb-8b79-5a0d65acaaa7",
   "metadata": {},
   "outputs": [
    {
     "data": {
      "text/plain": [
       "description\n",
       "DISORDERLY      249226\n",
       "BURGLARY         58416\n",
       "UNFOUNDED        17318\n",
       "PROSTITUTION      6398\n",
       "INVESTIGATE       5250\n",
       "DWI               3770\n",
       "LARCENY           1524\n",
       "INVEST            1262\n",
       "OTHER             1140\n",
       "POSSIBLE           906\n",
       "Name: description, dtype: int64"
      ]
     },
     "execution_count": 6,
     "metadata": {},
     "output_type": "execute_result"
    }
   ],
   "source": [
    "des_counts['Medium'][:10]"
   ]
  },
  {
   "cell_type": "code",
   "execution_count": 7,
   "id": "3bb15d9c-5415-4cbc-b84a-da3dcc200374",
   "metadata": {},
   "outputs": [
    {
     "data": {
      "text/plain": [
       "description\n",
       "FIRE          10361\n",
       "SHOOTING       5522\n",
       "GAMBLING       3546\n",
       "CUTTING        3064\n",
       "CARJACKING     1648\n",
       "PROWLER        1272\n",
       "UNFOUNDED      1160\n",
       "POSSIBLE        262\n",
       "DISORDERLY      224\n",
       "OTHER           142\n",
       "Name: description, dtype: int64"
      ]
     },
     "execution_count": 7,
     "metadata": {},
     "output_type": "execute_result"
    }
   ],
   "source": [
    "des_counts['High'][:10]"
   ]
  },
  {
   "cell_type": "code",
   "execution_count": 8,
   "id": "041a06b5-84a0-4ee8-ae67-53e7e9f33bed",
   "metadata": {},
   "outputs": [
    {
     "data": {
      "text/plain": [
       "description\n",
       "OTHER        25303\n",
       "FOLLOWUP     15202\n",
       "COURT         4125\n",
       "TRANSPORT     1825\n",
       "C              778\n",
       "G              630\n",
       "J              370\n",
       "ESCORT         348\n",
       "D              222\n",
       "E              222\n",
       "Name: description, dtype: int64"
      ]
     },
     "execution_count": 8,
     "metadata": {},
     "output_type": "execute_result"
    }
   ],
   "source": [
    "des_counts['Non-Emergency'][:10]"
   ]
  },
  {
   "cell_type": "code",
   "execution_count": 9,
   "id": "c8f5f87c-1826-4267-80cf-cacbdaa716e3",
   "metadata": {},
   "outputs": [
    {
     "data": {
      "text/plain": [
       "description\n",
       "OTHER       8\n",
       "POSSIBLE    1\n",
       "Name: description, dtype: int64"
      ]
     },
     "execution_count": 9,
     "metadata": {},
     "output_type": "execute_result"
    }
   ],
   "source": [
    "des_counts['Emergency'][:10]"
   ]
  },
  {
   "cell_type": "code",
   "execution_count": 10,
   "id": "a466a3b1-5e27-4c13-8055-fdfc6e0b1942",
   "metadata": {},
   "outputs": [
    {
     "data": {
      "text/plain": [
       "description\n",
       "LARCENY       25\n",
       "OTHER         23\n",
       "BURGLARY      15\n",
       "DISORDERLY     5\n",
       "TRANSPORT      5\n",
       "UNFOUNDED      4\n",
       "R              3\n",
       "TOWED          2\n",
       "AUTO           1\n",
       "CARJACKING     1\n",
       "Name: description, dtype: int64"
      ]
     },
     "execution_count": 10,
     "metadata": {},
     "output_type": "execute_result"
    }
   ],
   "source": [
    "des_counts['Out of Service'][:10]"
   ]
  },
  {
   "cell_type": "markdown",
   "id": "74036a6b-8b15-4bea-ba91-80fb3b7356ee",
   "metadata": {
    "tags": []
   },
   "source": [
    "## Tokenizing Description and Priority Variables"
   ]
  },
  {
   "cell_type": "code",
   "execution_count": 11,
   "id": "f34cc7fb-9833-4036-8aae-d26571be01dc",
   "metadata": {},
   "outputs": [
    {
     "data": {
      "text/html": [
       "<div>\n",
       "<style scoped>\n",
       "    .dataframe tbody tr th:only-of-type {\n",
       "        vertical-align: middle;\n",
       "    }\n",
       "\n",
       "    .dataframe tbody tr th {\n",
       "        vertical-align: top;\n",
       "    }\n",
       "\n",
       "    .dataframe thead th {\n",
       "        text-align: right;\n",
       "    }\n",
       "</style>\n",
       "<table border=\"1\" class=\"dataframe\">\n",
       "  <thead>\n",
       "    <tr style=\"text-align: right;\">\n",
       "      <th></th>\n",
       "      <th>...1</th>\n",
       "      <th>callDate</th>\n",
       "      <th>priority</th>\n",
       "      <th>district</th>\n",
       "      <th>description</th>\n",
       "      <th>callNumber</th>\n",
       "      <th>incidentLocation</th>\n",
       "      <th>Lat</th>\n",
       "      <th>Long</th>\n",
       "      <th>timeOfDay</th>\n",
       "      <th>n_priority</th>\n",
       "      <th>n_description</th>\n",
       "    </tr>\n",
       "  </thead>\n",
       "  <tbody>\n",
       "    <tr>\n",
       "      <th>0</th>\n",
       "      <td>11</td>\n",
       "      <td>2015-07-13</td>\n",
       "      <td>Non-Emergency</td>\n",
       "      <td>CD</td>\n",
       "      <td>FOLLOWUP</td>\n",
       "      <td>P151941014</td>\n",
       "      <td>1500 PENNSYLVANIA AV</td>\n",
       "      <td>39.302243</td>\n",
       "      <td>-76.633075</td>\n",
       "      <td>10.866667</td>\n",
       "      <td>4</td>\n",
       "      <td>154</td>\n",
       "    </tr>\n",
       "    <tr>\n",
       "      <th>1</th>\n",
       "      <td>16</td>\n",
       "      <td>2015-07-13</td>\n",
       "      <td>Medium</td>\n",
       "      <td>SE</td>\n",
       "      <td>DISORDERLY</td>\n",
       "      <td>P151941020</td>\n",
       "      <td>3300 E FAYETTE ST</td>\n",
       "      <td>39.295066</td>\n",
       "      <td>-76.570896</td>\n",
       "      <td>10.900000</td>\n",
       "      <td>3</td>\n",
       "      <td>98</td>\n",
       "    </tr>\n",
       "    <tr>\n",
       "      <th>2</th>\n",
       "      <td>17</td>\n",
       "      <td>2015-07-13</td>\n",
       "      <td>Low</td>\n",
       "      <td>SE</td>\n",
       "      <td>INVESTIGATE</td>\n",
       "      <td>P151941021</td>\n",
       "      <td>3300 E FAYETTE ST</td>\n",
       "      <td>39.295066</td>\n",
       "      <td>-76.570896</td>\n",
       "      <td>10.883333</td>\n",
       "      <td>2</td>\n",
       "      <td>205</td>\n",
       "    </tr>\n",
       "    <tr>\n",
       "      <th>3</th>\n",
       "      <td>20</td>\n",
       "      <td>2015-07-13</td>\n",
       "      <td>Low</td>\n",
       "      <td>NE</td>\n",
       "      <td>OTHER</td>\n",
       "      <td>P151941024</td>\n",
       "      <td>1600 STONEWOOD RD</td>\n",
       "      <td>39.348760</td>\n",
       "      <td>-76.587609</td>\n",
       "      <td>10.900000</td>\n",
       "      <td>2</td>\n",
       "      <td>266</td>\n",
       "    </tr>\n",
       "    <tr>\n",
       "      <th>4</th>\n",
       "      <td>22</td>\n",
       "      <td>2015-07-13</td>\n",
       "      <td>Medium</td>\n",
       "      <td>WD</td>\n",
       "      <td>BURGLARY</td>\n",
       "      <td>P151941026</td>\n",
       "      <td>1600 BRUCE CT</td>\n",
       "      <td>39.306700</td>\n",
       "      <td>-76.645785</td>\n",
       "      <td>10.900000</td>\n",
       "      <td>3</td>\n",
       "      <td>54</td>\n",
       "    </tr>\n",
       "  </tbody>\n",
       "</table>\n",
       "</div>"
      ],
      "text/plain": [
       "   ...1    callDate       priority district  description  callNumber  \\\n",
       "0    11  2015-07-13  Non-Emergency       CD     FOLLOWUP  P151941014   \n",
       "1    16  2015-07-13         Medium       SE   DISORDERLY  P151941020   \n",
       "2    17  2015-07-13            Low       SE  INVESTIGATE  P151941021   \n",
       "3    20  2015-07-13            Low       NE        OTHER  P151941024   \n",
       "4    22  2015-07-13         Medium       WD     BURGLARY  P151941026   \n",
       "\n",
       "       incidentLocation        Lat       Long  timeOfDay  n_priority  \\\n",
       "0  1500 PENNSYLVANIA AV  39.302243 -76.633075  10.866667           4   \n",
       "1     3300 E FAYETTE ST  39.295066 -76.570896  10.900000           3   \n",
       "2     3300 E FAYETTE ST  39.295066 -76.570896  10.883333           2   \n",
       "3     1600 STONEWOOD RD  39.348760 -76.587609  10.900000           2   \n",
       "4         1600 BRUCE CT  39.306700 -76.645785  10.900000           3   \n",
       "\n",
       "   n_description  \n",
       "0            154  \n",
       "1             98  \n",
       "2            205  \n",
       "3            266  \n",
       "4             54  "
      ]
     },
     "execution_count": 11,
     "metadata": {},
     "output_type": "execute_result"
    }
   ],
   "source": [
    "from sklearn import preprocessing\n",
    "le = preprocessing.LabelEncoder()\n",
    "balt[\"n_priority\"] = le.fit_transform(balt.priority)\n",
    "balt[\"n_description\"] = le.fit_transform(balt.description)\n",
    "balt.head()"
   ]
  },
  {
   "cell_type": "markdown",
   "id": "6262546a-3f34-463c-a9d1-050d9265e730",
   "metadata": {
    "tags": []
   },
   "source": [
    "## Constructing Naive Bayes Classifier"
   ]
  },
  {
   "cell_type": "code",
   "execution_count": 12,
   "id": "84919e01-b2b3-4db5-a0cf-5a4aaea33d78",
   "metadata": {},
   "outputs": [
    {
     "data": {
      "text/plain": [
       "GaussianNB()"
      ]
     },
     "execution_count": 12,
     "metadata": {},
     "output_type": "execute_result"
    }
   ],
   "source": [
    "from sklearn.model_selection import train_test_split\n",
    "from sklearn.naive_bayes import GaussianNB\n",
    "X = balt[[\"n_description\"]]\n",
    "y = balt[\"n_priority\"]\n",
    "X_train, X_test, y_train, y_test = train_test_split(X, y, test_size = 0.2)\n",
    "gnb = GaussianNB()\n",
    "gnb.fit(X_train, y_train)"
   ]
  },
  {
   "cell_type": "code",
   "execution_count": 13,
   "id": "de960d3a-07c6-40f1-895f-ed88fe99fd32",
   "metadata": {},
   "outputs": [
    {
     "name": "stdout",
     "output_type": "stream",
     "text": [
      "Accuracy: 79.514%\n"
     ]
    },
    {
     "name": "stderr",
     "output_type": "stream",
     "text": [
      "/Users/tristan/DSU-Client-Socian-Project/.venv/lib/python3.7/site-packages/sklearn/utils/deprecation.py:87: FutureWarning: Function plot_confusion_matrix is deprecated; Function `plot_confusion_matrix` is deprecated in 1.0 and will be removed in 1.2. Use one of the class methods: ConfusionMatrixDisplay.from_predictions or ConfusionMatrixDisplay.from_estimator.\n",
      "  warnings.warn(msg, category=FutureWarning)\n"
     ]
    },
    {
     "data": {
      "image/png": "[encoded data removed]",
      "text/plain": [
       "<Figure size 720x576 with 2 Axes>"
      ]
     },
     "metadata": {
      "needs_background": "light"
     },
     "output_type": "display_data"
    }
   ],
   "source": [
    "from sklearn.metrics import plot_confusion_matrix\n",
    "labels = np.array(['Emergency', 'High', 'Low', 'Medium', 'Non-Emergency', 'Out of Service'])\n",
    "print(f\"Accuracy: {gnb.score(X_test, y_test) * 100:.3f}%\")\n",
    "fig, ax = plt.subplots(figsize=(10, 8))\n",
    "plot_confusion_matrix(gnb, X_test, y_test, display_labels = labels, ax = ax, cmap = plt.cm.Blues)\n",
    "plt.show()"
   ]
  },
  {
   "cell_type": "markdown",
   "id": "a55ff129-65a4-4f03-98fa-f4845bcf2987",
   "metadata": {},
   "source": [
    "## Constructing Multinomial Naive Bayes Classifier"
   ]
  },
  {
   "cell_type": "code",
   "execution_count": 17,
   "id": "986d6da8-c7e7-4b34-b786-ef8f22caed72",
   "metadata": {},
   "outputs": [
    {
     "name": "stdout",
     "output_type": "stream",
     "text": [
      "Accuracy: 56.378%\n"
     ]
    },
    {
     "name": "stderr",
     "output_type": "stream",
     "text": [
      "/Users/tristan/DSU-Client-Socian-Project/.venv/lib/python3.7/site-packages/sklearn/utils/deprecation.py:87: FutureWarning: Function plot_confusion_matrix is deprecated; Function `plot_confusion_matrix` is deprecated in 1.0 and will be removed in 1.2. Use one of the class methods: ConfusionMatrixDisplay.from_predictions or ConfusionMatrixDisplay.from_estimator.\n",
      "  warnings.warn(msg, category=FutureWarning)\n"
     ]
    },
    {
     "data": {
      "image/png": "[encoded data removed]",
      "text/plain": [
       "<Figure size 720x576 with 2 Axes>"
      ]
     },
     "metadata": {
      "needs_background": "light"
     },
     "output_type": "display_data"
    }
   ],
   "source": [
    "from sklearn.naive_bayes import MultinomialNB\n",
    "mnb = MultinomialNB()\n",
    "mnb.fit(X_train, y_train)\n",
    "print(f\"Accuracy: {mnb.score(X_test, y_test) * 100:.3f}%\")\n",
    "fig, ax = plt.subplots(figsize=(10, 8))\n",
    "plot_confusion_matrix(mnb, X_test, y_test, display_labels = labels, ax = ax, cmap = plt.cm.Blues)\n",
    "plt.show()"
   ]
  },
  {
   "cell_type": "markdown",
   "id": "98c05ee4-48fb-42c5-b2fd-e0d93e43bfd0",
   "metadata": {},
   "source": [
    "## Constructing Categorical Naive Bayes Classifier"
   ]
  },
  {
   "cell_type": "code",
   "execution_count": 15,
   "id": "ad8f8922-1c30-488f-b810-816589035854",
   "metadata": {},
   "outputs": [
    {
     "name": "stdout",
     "output_type": "stream",
     "text": [
      "Accuracy: 92.791%\n"
     ]
    },
    {
     "name": "stderr",
     "output_type": "stream",
     "text": [
      "/Users/tristan/DSU-Client-Socian-Project/.venv/lib/python3.7/site-packages/sklearn/utils/deprecation.py:87: FutureWarning: Function plot_confusion_matrix is deprecated; Function `plot_confusion_matrix` is deprecated in 1.0 and will be removed in 1.2. Use one of the class methods: ConfusionMatrixDisplay.from_predictions or ConfusionMatrixDisplay.from_estimator.\n",
      "  warnings.warn(msg, category=FutureWarning)\n"
     ]
    },
    {
     "data": {
      "image/png": "[encoded data removed]",
      "text/plain": [
       "<Figure size 720x576 with 2 Axes>"
      ]
     },
     "metadata": {
      "needs_background": "light"
     },
     "output_type": "display_data"
    }
   ],
   "source": [
    "from sklearn.naive_bayes import CategoricalNB\n",
    "cnb = CategoricalNB()\n",
    "cnb.fit(X_train, y_train)\n",
    "print(f\"Accuracy: {cnb.score(X_test, y_test) * 100:.3f}%\")\n",
    "fig, ax = plt.subplots(figsize=(10, 8))\n",
    "plot_confusion_matrix(cnb, X_test, y_test, display_labels = labels, ax = ax, cmap = plt.cm.Blues)\n",
    "plt.show()"
   ]
  }
 ],
 "metadata": {
  "interpreter": {
   "hash": "f59438ade106e70a9cec9e134618f6f2f460438ed1889095c539099160628bc0"
  },
  "kernelspec": {
   "display_name": "Python 3 (ipykernel)",
   "language": "python",
   "name": "python3"
  },
  "language_info": {
   "codemirror_mode": {
    "name": "ipython",
    "version": 3
   },
   "file_extension": ".py",
   "mimetype": "text/x-python",
   "name": "python",
   "nbconvert_exporter": "python",
   "pygments_lexer": "ipython3",
   "version": "3.7.11"
  }
 },
 "nbformat": 4,
 "nbformat_minor": 5
}
