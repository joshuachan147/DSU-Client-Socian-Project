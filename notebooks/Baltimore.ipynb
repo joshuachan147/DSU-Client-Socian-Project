{
 "cells": [
  {
   "cell_type": "markdown",
   "id": "1180822b-baad-4edb-b4d4-094bb9daf72e",
   "metadata": {},
   "source": [
    "# Baltimore Data Classification Modeling"
   ]
  },
  {
   "cell_type": "markdown",
   "id": "30a4bd6a-edb6-4cae-ba6b-7ba3c0cd1038",
   "metadata": {},
   "source": [
    "### by: Tristan Dewing"
   ]
  },
  {
   "cell_type": "markdown",
   "id": "2ebd3242-4c8e-4f6a-a50f-4861eedde90d",
   "metadata": {},
   "source": [
    "## Importing Packages and Dataset"
   ]
  },
  {
   "cell_type": "code",
   "execution_count": 17,
   "id": "9acb3a3e-c6d4-46a0-8535-d3d5fa54d987",
   "metadata": {},
   "outputs": [],
   "source": [
    "import numpy as np\n",
    "import pandas as pd\n",
    "import matplotlib.pyplot as plt"
   ]
  },
  {
   "cell_type": "code",
   "execution_count": 18,
   "id": "57feb5e7-d986-4bdd-bee8-930c4061565e",
   "metadata": {},
   "outputs": [
    {
     "data": {
      "text/html": [
       "<div>\n",
       "<style scoped>\n",
       "    .dataframe tbody tr th:only-of-type {\n",
       "        vertical-align: middle;\n",
       "    }\n",
       "\n",
       "    .dataframe tbody tr th {\n",
       "        vertical-align: top;\n",
       "    }\n",
       "\n",
       "    .dataframe thead th {\n",
       "        text-align: right;\n",
       "    }\n",
       "</style>\n",
       "<table border=\"1\" class=\"dataframe\">\n",
       "  <thead>\n",
       "    <tr style=\"text-align: right;\">\n",
       "      <th></th>\n",
       "      <th>...1</th>\n",
       "      <th>callDate</th>\n",
       "      <th>priority</th>\n",
       "      <th>district</th>\n",
       "      <th>description</th>\n",
       "      <th>callNumber</th>\n",
       "      <th>incidentLocation</th>\n",
       "      <th>Lat</th>\n",
       "      <th>Long</th>\n",
       "      <th>timeOfDay</th>\n",
       "    </tr>\n",
       "  </thead>\n",
       "  <tbody>\n",
       "    <tr>\n",
       "      <th>0</th>\n",
       "      <td>11</td>\n",
       "      <td>2015-07-13</td>\n",
       "      <td>Non-Emergency</td>\n",
       "      <td>CD</td>\n",
       "      <td>FOLLOWUP</td>\n",
       "      <td>P151941014</td>\n",
       "      <td>1500 PENNSYLVANIA AV</td>\n",
       "      <td>39.302243</td>\n",
       "      <td>-76.633075</td>\n",
       "      <td>10.866667</td>\n",
       "    </tr>\n",
       "    <tr>\n",
       "      <th>1</th>\n",
       "      <td>16</td>\n",
       "      <td>2015-07-13</td>\n",
       "      <td>Medium</td>\n",
       "      <td>SE</td>\n",
       "      <td>DISORDERLY</td>\n",
       "      <td>P151941020</td>\n",
       "      <td>3300 E FAYETTE ST</td>\n",
       "      <td>39.295066</td>\n",
       "      <td>-76.570896</td>\n",
       "      <td>10.900000</td>\n",
       "    </tr>\n",
       "    <tr>\n",
       "      <th>2</th>\n",
       "      <td>17</td>\n",
       "      <td>2015-07-13</td>\n",
       "      <td>Low</td>\n",
       "      <td>SE</td>\n",
       "      <td>INVESTIGATE</td>\n",
       "      <td>P151941021</td>\n",
       "      <td>3300 E FAYETTE ST</td>\n",
       "      <td>39.295066</td>\n",
       "      <td>-76.570896</td>\n",
       "      <td>10.883333</td>\n",
       "    </tr>\n",
       "    <tr>\n",
       "      <th>3</th>\n",
       "      <td>20</td>\n",
       "      <td>2015-07-13</td>\n",
       "      <td>Low</td>\n",
       "      <td>NE</td>\n",
       "      <td>OTHER</td>\n",
       "      <td>P151941024</td>\n",
       "      <td>1600 STONEWOOD RD</td>\n",
       "      <td>39.348760</td>\n",
       "      <td>-76.587609</td>\n",
       "      <td>10.900000</td>\n",
       "    </tr>\n",
       "    <tr>\n",
       "      <th>4</th>\n",
       "      <td>22</td>\n",
       "      <td>2015-07-13</td>\n",
       "      <td>Medium</td>\n",
       "      <td>WD</td>\n",
       "      <td>BURGLARY</td>\n",
       "      <td>P151941026</td>\n",
       "      <td>1600 BRUCE CT</td>\n",
       "      <td>39.306700</td>\n",
       "      <td>-76.645785</td>\n",
       "      <td>10.900000</td>\n",
       "    </tr>\n",
       "  </tbody>\n",
       "</table>\n",
       "</div>"
      ],
      "text/plain": [
       "   ...1    callDate       priority district  description  callNumber  \\\n",
       "0    11  2015-07-13  Non-Emergency       CD     FOLLOWUP  P151941014   \n",
       "1    16  2015-07-13         Medium       SE   DISORDERLY  P151941020   \n",
       "2    17  2015-07-13            Low       SE  INVESTIGATE  P151941021   \n",
       "3    20  2015-07-13            Low       NE        OTHER  P151941024   \n",
       "4    22  2015-07-13         Medium       WD     BURGLARY  P151941026   \n",
       "\n",
       "       incidentLocation        Lat       Long  timeOfDay  \n",
       "0  1500 PENNSYLVANIA AV  39.302243 -76.633075  10.866667  \n",
       "1     3300 E FAYETTE ST  39.295066 -76.570896  10.900000  \n",
       "2     3300 E FAYETTE ST  39.295066 -76.570896  10.883333  \n",
       "3     1600 STONEWOOD RD  39.348760 -76.587609  10.900000  \n",
       "4         1600 BRUCE CT  39.306700 -76.645785  10.900000  "
      ]
     },
     "execution_count": 18,
     "metadata": {},
     "output_type": "execute_result"
    }
   ],
   "source": [
    "balt = pd.read_csv(\"../data/processed/processed.csv\")\n",
    "balt.head()"
   ]
  },
  {
   "cell_type": "markdown",
   "id": "b369ba0c-025c-45a3-8a93-48a265fc4b01",
   "metadata": {},
   "source": [
    "## Exploring Most Frequent Descriptions for Each Priority Level"
   ]
  },
  {
   "cell_type": "code",
   "execution_count": 19,
   "id": "c80c71ac-eee9-4958-8219-5efbd417e01c",
   "metadata": {},
   "outputs": [
    {
     "data": {
      "text/plain": [
       "Medium            350011\n",
       "Low               192776\n",
       "Non-Emergency      49713\n",
       "High               28324\n",
       "Out of Service        88\n",
       "Emergency              9\n",
       "Name: priority, dtype: int64"
      ]
     },
     "execution_count": 19,
     "metadata": {},
     "output_type": "execute_result"
    }
   ],
   "source": [
    "balt.priority.value_counts()"
   ]
  },
  {
   "cell_type": "code",
   "execution_count": 20,
   "id": "17b07809-ba1c-4805-a47c-0f2e0066f305",
   "metadata": {},
   "outputs": [],
   "source": [
    "des_counts = balt.description.groupby(balt.priority).value_counts()"
   ]
  },
  {
   "cell_type": "code",
   "execution_count": 21,
   "id": "9f3e5b4c-c372-4e72-96cd-c067c75440f1",
   "metadata": {},
   "outputs": [
    {
     "data": {
      "text/plain": [
       "description\n",
       "OTHER          64888\n",
       "INVESTIGATE    55474\n",
       "LARCENY        28090\n",
       "TRANSPORT      23998\n",
       "INVEST          6750\n",
       "ESCORT          2304\n",
       "NOTIFY          2020\n",
       "MISTAKE         1043\n",
       "DWI              857\n",
       "BAILOUT          708\n",
       "Name: description, dtype: int64"
      ]
     },
     "execution_count": 21,
     "metadata": {},
     "output_type": "execute_result"
    }
   ],
   "source": [
    "des_counts['Low'][:10]"
   ]
  },
  {
   "cell_type": "code",
   "execution_count": 22,
   "id": "851e4ead-6d91-4afb-8b79-5a0d65acaaa7",
   "metadata": {},
   "outputs": [
    {
     "data": {
      "text/plain": [
       "description\n",
       "DISORDERLY      249226\n",
       "BURGLARY         58416\n",
       "UNFOUNDED        17318\n",
       "PROSTITUTION      6398\n",
       "INVESTIGATE       5250\n",
       "DWI               3770\n",
       "LARCENY           1524\n",
       "INVEST            1262\n",
       "OTHER             1140\n",
       "POSSIBLE           906\n",
       "Name: description, dtype: int64"
      ]
     },
     "execution_count": 22,
     "metadata": {},
     "output_type": "execute_result"
    }
   ],
   "source": [
    "des_counts['Medium'][:10]"
   ]
  },
  {
   "cell_type": "code",
   "execution_count": 23,
   "id": "3bb15d9c-5415-4cbc-b84a-da3dcc200374",
   "metadata": {},
   "outputs": [
    {
     "data": {
      "text/plain": [
       "description\n",
       "FIRE          10361\n",
       "SHOOTING       5522\n",
       "GAMBLING       3546\n",
       "CUTTING        3064\n",
       "CARJACKING     1648\n",
       "PROWLER        1272\n",
       "UNFOUNDED      1160\n",
       "POSSIBLE        262\n",
       "DISORDERLY      224\n",
       "OTHER           142\n",
       "Name: description, dtype: int64"
      ]
     },
     "execution_count": 23,
     "metadata": {},
     "output_type": "execute_result"
    }
   ],
   "source": [
    "des_counts['High'][:10]"
   ]
  },
  {
   "cell_type": "code",
   "execution_count": 24,
   "id": "041a06b5-84a0-4ee8-ae67-53e7e9f33bed",
   "metadata": {},
   "outputs": [
    {
     "data": {
      "text/plain": [
       "description\n",
       "OTHER        25303\n",
       "FOLLOWUP     15202\n",
       "COURT         4125\n",
       "TRANSPORT     1825\n",
       "C              778\n",
       "G              630\n",
       "J              370\n",
       "ESCORT         348\n",
       "D              222\n",
       "E              222\n",
       "Name: description, dtype: int64"
      ]
     },
     "execution_count": 24,
     "metadata": {},
     "output_type": "execute_result"
    }
   ],
   "source": [
    "des_counts['Non-Emergency'][:10]"
   ]
  },
  {
   "cell_type": "code",
   "execution_count": 25,
   "id": "c8f5f87c-1826-4267-80cf-cacbdaa716e3",
   "metadata": {},
   "outputs": [
    {
     "data": {
      "text/plain": [
       "description\n",
       "OTHER       8\n",
       "POSSIBLE    1\n",
       "Name: description, dtype: int64"
      ]
     },
     "execution_count": 25,
     "metadata": {},
     "output_type": "execute_result"
    }
   ],
   "source": [
    "des_counts['Emergency'][:10]"
   ]
  },
  {
   "cell_type": "code",
   "execution_count": 26,
   "id": "a466a3b1-5e27-4c13-8055-fdfc6e0b1942",
   "metadata": {},
   "outputs": [
    {
     "data": {
      "text/plain": [
       "description\n",
       "LARCENY       25\n",
       "OTHER         23\n",
       "BURGLARY      15\n",
       "DISORDERLY     5\n",
       "TRANSPORT      5\n",
       "UNFOUNDED      4\n",
       "R              3\n",
       "TOWED          2\n",
       "AUTO           1\n",
       "CARJACKING     1\n",
       "Name: description, dtype: int64"
      ]
     },
     "execution_count": 26,
     "metadata": {},
     "output_type": "execute_result"
    }
   ],
   "source": [
    "des_counts['Out of Service'][:10]"
   ]
  },
  {
   "cell_type": "code",
   "execution_count": 27,
   "id": "6a327336-367d-4fac-85db-acef512fc2ca",
   "metadata": {},
   "outputs": [
    {
     "data": {
      "text/html": [
       "<div>\n",
       "<style scoped>\n",
       "    .dataframe tbody tr th:only-of-type {\n",
       "        vertical-align: middle;\n",
       "    }\n",
       "\n",
       "    .dataframe tbody tr th {\n",
       "        vertical-align: top;\n",
       "    }\n",
       "\n",
       "    .dataframe thead th {\n",
       "        text-align: right;\n",
       "    }\n",
       "</style>\n",
       "<table border=\"1\" class=\"dataframe\">\n",
       "  <thead>\n",
       "    <tr style=\"text-align: right;\">\n",
       "      <th></th>\n",
       "      <th>...1</th>\n",
       "      <th>callDate</th>\n",
       "      <th>priority</th>\n",
       "      <th>district</th>\n",
       "      <th>description</th>\n",
       "      <th>callNumber</th>\n",
       "      <th>incidentLocation</th>\n",
       "      <th>Lat</th>\n",
       "      <th>Long</th>\n",
       "      <th>timeOfDay</th>\n",
       "      <th>n_description</th>\n",
       "    </tr>\n",
       "  </thead>\n",
       "  <tbody>\n",
       "    <tr>\n",
       "      <th>0</th>\n",
       "      <td>11</td>\n",
       "      <td>2015-07-13</td>\n",
       "      <td>Non-Emergency</td>\n",
       "      <td>CD</td>\n",
       "      <td>FOLLOWUP</td>\n",
       "      <td>P151941014</td>\n",
       "      <td>1500 PENNSYLVANIA AV</td>\n",
       "      <td>39.302243</td>\n",
       "      <td>-76.633075</td>\n",
       "      <td>10.866667</td>\n",
       "      <td>154</td>\n",
       "    </tr>\n",
       "    <tr>\n",
       "      <th>1</th>\n",
       "      <td>16</td>\n",
       "      <td>2015-07-13</td>\n",
       "      <td>Medium</td>\n",
       "      <td>SE</td>\n",
       "      <td>DISORDERLY</td>\n",
       "      <td>P151941020</td>\n",
       "      <td>3300 E FAYETTE ST</td>\n",
       "      <td>39.295066</td>\n",
       "      <td>-76.570896</td>\n",
       "      <td>10.900000</td>\n",
       "      <td>98</td>\n",
       "    </tr>\n",
       "    <tr>\n",
       "      <th>2</th>\n",
       "      <td>17</td>\n",
       "      <td>2015-07-13</td>\n",
       "      <td>Low</td>\n",
       "      <td>SE</td>\n",
       "      <td>INVESTIGATE</td>\n",
       "      <td>P151941021</td>\n",
       "      <td>3300 E FAYETTE ST</td>\n",
       "      <td>39.295066</td>\n",
       "      <td>-76.570896</td>\n",
       "      <td>10.883333</td>\n",
       "      <td>205</td>\n",
       "    </tr>\n",
       "    <tr>\n",
       "      <th>3</th>\n",
       "      <td>20</td>\n",
       "      <td>2015-07-13</td>\n",
       "      <td>Low</td>\n",
       "      <td>NE</td>\n",
       "      <td>OTHER</td>\n",
       "      <td>P151941024</td>\n",
       "      <td>1600 STONEWOOD RD</td>\n",
       "      <td>39.348760</td>\n",
       "      <td>-76.587609</td>\n",
       "      <td>10.900000</td>\n",
       "      <td>266</td>\n",
       "    </tr>\n",
       "    <tr>\n",
       "      <th>4</th>\n",
       "      <td>22</td>\n",
       "      <td>2015-07-13</td>\n",
       "      <td>Medium</td>\n",
       "      <td>WD</td>\n",
       "      <td>BURGLARY</td>\n",
       "      <td>P151941026</td>\n",
       "      <td>1600 BRUCE CT</td>\n",
       "      <td>39.306700</td>\n",
       "      <td>-76.645785</td>\n",
       "      <td>10.900000</td>\n",
       "      <td>54</td>\n",
       "    </tr>\n",
       "  </tbody>\n",
       "</table>\n",
       "</div>"
      ],
      "text/plain": [
       "   ...1    callDate       priority district  description  callNumber  \\\n",
       "0    11  2015-07-13  Non-Emergency       CD     FOLLOWUP  P151941014   \n",
       "1    16  2015-07-13         Medium       SE   DISORDERLY  P151941020   \n",
       "2    17  2015-07-13            Low       SE  INVESTIGATE  P151941021   \n",
       "3    20  2015-07-13            Low       NE        OTHER  P151941024   \n",
       "4    22  2015-07-13         Medium       WD     BURGLARY  P151941026   \n",
       "\n",
       "       incidentLocation        Lat       Long  timeOfDay  n_description  \n",
       "0  1500 PENNSYLVANIA AV  39.302243 -76.633075  10.866667            154  \n",
       "1     3300 E FAYETTE ST  39.295066 -76.570896  10.900000             98  \n",
       "2     3300 E FAYETTE ST  39.295066 -76.570896  10.883333            205  \n",
       "3     1600 STONEWOOD RD  39.348760 -76.587609  10.900000            266  \n",
       "4         1600 BRUCE CT  39.306700 -76.645785  10.900000             54  "
      ]
     },
     "execution_count": 27,
     "metadata": {},
     "output_type": "execute_result"
    }
   ],
   "source": [
    "balt.description = balt.description.astype('category')\n",
    "balt[\"n_description\"] = balt.description.cat.codes\n",
    "balt.head()"
   ]
  },
  {
   "cell_type": "code",
   "execution_count": 28,
   "id": "90fafe13-23ff-407c-999e-bd1244f4d7ce",
   "metadata": {},
   "outputs": [],
   "source": [
    "# Import LabelEncoder\n",
    "# from sklearn import preprocessing\n",
    "#creating labelEncoder\n",
    "# le = preprocessing.LabelEncoder()\n",
    "# Converting string labels into numbers.\n",
    "# wheather_encoded=le.fit_transform(wheather)\n",
    "# print wheather_encoded"
   ]
  },
  {
   "cell_type": "code",
   "execution_count": 30,
   "id": "534d0a22-0728-432c-ad4f-97c0df4fd7cd",
   "metadata": {},
   "outputs": [
    {
     "ename": "AttributeError",
     "evalue": "'Series' object has no attribute 'reshape'",
     "output_type": "error",
     "traceback": [
      "\u001b[0;31m---------------------------------------------------------------------------\u001b[0m",
      "\u001b[0;31mAttributeError\u001b[0m                            Traceback (most recent call last)",
      "\u001b[0;32m/var/folders/_b/yg_3pd954yv4w5qcxqf0298w0000gn/T/ipykernel_29740/2798777883.py\u001b[0m in \u001b[0;36m<module>\u001b[0;34m\u001b[0m\n\u001b[1;32m      3\u001b[0m \u001b[0;34m\u001b[0m\u001b[0m\n\u001b[1;32m      4\u001b[0m \u001b[0mX\u001b[0m \u001b[0;34m=\u001b[0m \u001b[0mbalt\u001b[0m\u001b[0;34m[\u001b[0m\u001b[0;34m'n_description'\u001b[0m\u001b[0;34m]\u001b[0m\u001b[0;34m\u001b[0m\u001b[0;34m\u001b[0m\u001b[0m\n\u001b[0;32m----> 5\u001b[0;31m \u001b[0my\u001b[0m \u001b[0;34m=\u001b[0m \u001b[0mbalt\u001b[0m\u001b[0;34m[\u001b[0m\u001b[0;34m'priority'\u001b[0m\u001b[0;34m]\u001b[0m\u001b[0;34m.\u001b[0m\u001b[0mreshape\u001b[0m\u001b[0;34m(\u001b[0m\u001b[0;34m-\u001b[0m\u001b[0;36m1\u001b[0m\u001b[0;34m)\u001b[0m\u001b[0;34m\u001b[0m\u001b[0;34m\u001b[0m\u001b[0m\n\u001b[0m\u001b[1;32m      6\u001b[0m \u001b[0;31m# X = balt[['n_description']]\u001b[0m\u001b[0;34m\u001b[0m\u001b[0;34m\u001b[0m\u001b[0;34m\u001b[0m\u001b[0m\n\u001b[1;32m      7\u001b[0m \u001b[0;31m# y = balt[['priority']]\u001b[0m\u001b[0;34m\u001b[0m\u001b[0;34m\u001b[0m\u001b[0;34m\u001b[0m\u001b[0m\n",
      "\u001b[0;32m~/DSU-Client-Socian-Project/.venv/lib/python3.7/site-packages/pandas/core/generic.py\u001b[0m in \u001b[0;36m__getattr__\u001b[0;34m(self, name)\u001b[0m\n\u001b[1;32m   5485\u001b[0m         ):\n\u001b[1;32m   5486\u001b[0m             \u001b[0;32mreturn\u001b[0m \u001b[0mself\u001b[0m\u001b[0;34m[\u001b[0m\u001b[0mname\u001b[0m\u001b[0;34m]\u001b[0m\u001b[0;34m\u001b[0m\u001b[0;34m\u001b[0m\u001b[0m\n\u001b[0;32m-> 5487\u001b[0;31m         \u001b[0;32mreturn\u001b[0m \u001b[0mobject\u001b[0m\u001b[0;34m.\u001b[0m\u001b[0m__getattribute__\u001b[0m\u001b[0;34m(\u001b[0m\u001b[0mself\u001b[0m\u001b[0;34m,\u001b[0m \u001b[0mname\u001b[0m\u001b[0;34m)\u001b[0m\u001b[0;34m\u001b[0m\u001b[0;34m\u001b[0m\u001b[0m\n\u001b[0m\u001b[1;32m   5488\u001b[0m \u001b[0;34m\u001b[0m\u001b[0m\n\u001b[1;32m   5489\u001b[0m     \u001b[0;32mdef\u001b[0m \u001b[0m__setattr__\u001b[0m\u001b[0;34m(\u001b[0m\u001b[0mself\u001b[0m\u001b[0;34m,\u001b[0m \u001b[0mname\u001b[0m\u001b[0;34m:\u001b[0m \u001b[0mstr\u001b[0m\u001b[0;34m,\u001b[0m \u001b[0mvalue\u001b[0m\u001b[0;34m)\u001b[0m \u001b[0;34m->\u001b[0m \u001b[0;32mNone\u001b[0m\u001b[0;34m:\u001b[0m\u001b[0;34m\u001b[0m\u001b[0;34m\u001b[0m\u001b[0m\n",
      "\u001b[0;31mAttributeError\u001b[0m: 'Series' object has no attribute 'reshape'"
     ]
    }
   ],
   "source": [
    "from sklearn.model_selection import train_test_split\n",
    "from sklearn.naive_bayes import GaussianNB\n",
    "\n",
    "X = balt['n_description']\n",
    "y = balt['priority'].reshape(-1)\n",
    "# X = balt[['n_description']]\n",
    "# y = balt[['priority']]\n",
    "X_train, X_test, y_train, y_test = train_test_split(X, y, test_size = 0.2)\n",
    "nb = GaussianNB()\n",
    "y_pred = nb.fit(X_train, y_train).predict(X_test)\n",
    "print(\"Number of mislabeled points out of a total %d points : %d\" % (X_test.shape[0], (y_test != y_pred).sum()))"
   ]
  },
  {
   "cell_type": "code",
   "execution_count": null,
   "id": "9d35e9c1-ce1f-4df4-b63c-96b6777ec2d2",
   "metadata": {},
   "outputs": [],
   "source": [
    "from sklearn.metrics import confusion_matrix\n",
    "print(confusion_matrix(y_test, y_pred))"
   ]
  }
 ],
 "metadata": {
  "kernelspec": {
   "display_name": "Python 3 (ipykernel)",
   "language": "python",
   "name": "python3"
  },
  "language_info": {
   "codemirror_mode": {
    "name": "ipython",
    "version": 3
   },
   "file_extension": ".py",
   "mimetype": "text/x-python",
   "name": "python",
   "nbconvert_exporter": "python",
   "pygments_lexer": "ipython3",
   "version": "3.7.11"
  }
 },
 "nbformat": 4,
 "nbformat_minor": 5
}
