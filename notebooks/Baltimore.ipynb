{
 "cells": [
  {
   "cell_type": "markdown",
   "id": "1180822b-baad-4edb-b4d4-094bb9daf72e",
   "metadata": {},
   "source": [
    "# Baltimore Data Classification Modeling"
   ]
  },
  {
   "cell_type": "markdown",
   "id": "30a4bd6a-edb6-4cae-ba6b-7ba3c0cd1038",
   "metadata": {},
   "source": [
    "### by: Tristan Dewing"
   ]
  },
  {
   "cell_type": "markdown",
   "id": "2ebd3242-4c8e-4f6a-a50f-4861eedde90d",
   "metadata": {},
   "source": [
    "## Importing Packages and Dataset"
   ]
  },
  {
   "cell_type": "code",
   "execution_count": 11,
   "id": "9acb3a3e-c6d4-46a0-8535-d3d5fa54d987",
   "metadata": {},
   "outputs": [],
   "source": [
    "import numpy as np\n",
    "import pandas as pd\n",
    "import matplotlib.pyplot as plt"
   ]
  },
  {
   "cell_type": "code",
   "execution_count": 12,
   "id": "57feb5e7-d986-4bdd-bee8-930c4061565e",
   "metadata": {},
   "outputs": [
    {
     "data": {
      "text/html": [
       "<div>\n",
       "<style scoped>\n",
       "    .dataframe tbody tr th:only-of-type {\n",
       "        vertical-align: middle;\n",
       "    }\n",
       "\n",
       "    .dataframe tbody tr th {\n",
       "        vertical-align: top;\n",
       "    }\n",
       "\n",
       "    .dataframe thead th {\n",
       "        text-align: right;\n",
       "    }\n",
       "</style>\n",
       "<table border=\"1\" class=\"dataframe\">\n",
       "  <thead>\n",
       "    <tr style=\"text-align: right;\">\n",
       "      <th></th>\n",
       "      <th>Unnamed: 0</th>\n",
       "      <th>callDateTime</th>\n",
       "      <th>priority</th>\n",
       "      <th>district</th>\n",
       "      <th>description</th>\n",
       "      <th>callNumber</th>\n",
       "      <th>incidentLocation</th>\n",
       "      <th>location</th>\n",
       "    </tr>\n",
       "  </thead>\n",
       "  <tbody>\n",
       "    <tr>\n",
       "      <th>0</th>\n",
       "      <td>0</td>\n",
       "      <td>2015-07-13 10:41:00</td>\n",
       "      <td>Medium</td>\n",
       "      <td>CD</td>\n",
       "      <td>SEE TEXT</td>\n",
       "      <td>P151941002</td>\n",
       "      <td>0 N CALVERT ST</td>\n",
       "      <td>(39.2899299,-76.6123462)</td>\n",
       "    </tr>\n",
       "    <tr>\n",
       "      <th>1</th>\n",
       "      <td>1</td>\n",
       "      <td>2015-07-13 10:47:00</td>\n",
       "      <td>Medium</td>\n",
       "      <td>CD</td>\n",
       "      <td>911/NO  VOICE</td>\n",
       "      <td>P151941003</td>\n",
       "      <td>600 E FAYETTE ST</td>\n",
       "      <td>(39.2906737,-76.6071600)</td>\n",
       "    </tr>\n",
       "    <tr>\n",
       "      <th>2</th>\n",
       "      <td>2</td>\n",
       "      <td>2015-07-13 10:42:00</td>\n",
       "      <td>Medium</td>\n",
       "      <td>CD</td>\n",
       "      <td>911/NO  VOICE</td>\n",
       "      <td>P151941004</td>\n",
       "      <td>200 E BALTIMORE ST</td>\n",
       "      <td>(39.2898910,-76.6120720)</td>\n",
       "    </tr>\n",
       "    <tr>\n",
       "      <th>3</th>\n",
       "      <td>3</td>\n",
       "      <td>2015-07-13 10:45:00</td>\n",
       "      <td>Low</td>\n",
       "      <td>CD</td>\n",
       "      <td>PRKG COMPLAINT</td>\n",
       "      <td>P151941005</td>\n",
       "      <td>800 PARK AV</td>\n",
       "      <td>(39.2985163,-76.6184754)</td>\n",
       "    </tr>\n",
       "    <tr>\n",
       "      <th>4</th>\n",
       "      <td>4</td>\n",
       "      <td>2015-07-13 10:46:00</td>\n",
       "      <td>Medium</td>\n",
       "      <td>SW</td>\n",
       "      <td>AUTO THEFT</td>\n",
       "      <td>P151941006</td>\n",
       "      <td>3500 CLIFTON AV</td>\n",
       "      <td>(39.3112130,-76.6763150)</td>\n",
       "    </tr>\n",
       "  </tbody>\n",
       "</table>\n",
       "</div>"
      ],
      "text/plain": [
       "   Unnamed: 0         callDateTime priority district     description  \\\n",
       "0           0  2015-07-13 10:41:00   Medium       CD        SEE TEXT   \n",
       "1           1  2015-07-13 10:47:00   Medium       CD   911/NO  VOICE   \n",
       "2           2  2015-07-13 10:42:00   Medium       CD   911/NO  VOICE   \n",
       "3           3  2015-07-13 10:45:00      Low       CD  PRKG COMPLAINT   \n",
       "4           4  2015-07-13 10:46:00   Medium       SW      AUTO THEFT   \n",
       "\n",
       "   callNumber    incidentLocation                  location  \n",
       "0  P151941002      0 N CALVERT ST  (39.2899299,-76.6123462)  \n",
       "1  P151941003    600 E FAYETTE ST  (39.2906737,-76.6071600)  \n",
       "2  P151941004  200 E BALTIMORE ST  (39.2898910,-76.6120720)  \n",
       "3  P151941005         800 PARK AV  (39.2985163,-76.6184754)  \n",
       "4  P151941006     3500 CLIFTON AV  (39.3112130,-76.6763150)  "
      ]
     },
     "execution_count": 12,
     "metadata": {},
     "output_type": "execute_result"
    }
   ],
   "source": [
    "balt = pd.read_csv(\"911_calls_for_service.csv\")\n",
    "balt.head()"
   ]
  },
  {
   "cell_type": "markdown",
   "id": "b369ba0c-025c-45a3-8a93-48a265fc4b01",
   "metadata": {},
   "source": [
    "## Exploring Most Frequent Descriptions for Each Priority Level"
   ]
  },
  {
   "cell_type": "code",
   "execution_count": 14,
   "id": "c80c71ac-eee9-4958-8219-5efbd417e01c",
   "metadata": {},
   "outputs": [
    {
     "data": {
      "text/plain": [
       "Medium            1399431\n",
       "Low                636380\n",
       "High               434022\n",
       "Non-Emergency      321619\n",
       "Emergency            1004\n",
       "Out of Service        803\n",
       "Name: priority, dtype: int64"
      ]
     },
     "execution_count": 14,
     "metadata": {},
     "output_type": "execute_result"
    }
   ],
   "source": [
    "balt.priority.value_counts()"
   ]
  },
  {
   "cell_type": "code",
   "execution_count": 15,
   "id": "17b07809-ba1c-4805-a47c-0f2e0066f305",
   "metadata": {},
   "outputs": [],
   "source": [
    "des_counts = balt.description.groupby(balt.priority).value_counts()"
   ]
  },
  {
   "cell_type": "code",
   "execution_count": 16,
   "id": "9f3e5b4c-c372-4e72-96cd-c067c75440f1",
   "metadata": {},
   "outputs": [
    {
     "data": {
      "text/plain": [
       "description\n",
       "AUTO ACCIDENT      106896\n",
       "OTHER               60646\n",
       "INVESTIGATE         51468\n",
       "HIT AND RUN         49434\n",
       "LARCENY F/AUTO      30276\n",
       "LARCENCY            27281\n",
       "LARCENY             25158\n",
       "Transport           23898\n",
       "DESTRUCT PROPTY     21848\n",
       "WANTED ON WARR      21750\n",
       "Name: description, dtype: int64"
      ]
     },
     "execution_count": 16,
     "metadata": {},
     "output_type": "execute_result"
    }
   ],
   "source": [
    "des_counts['Low'][:10]"
   ]
  },
  {
   "cell_type": "code",
   "execution_count": 6,
   "id": "851e4ead-6d91-4afb-8b79-5a0d65acaaa7",
   "metadata": {},
   "outputs": [
    {
     "data": {
      "text/plain": [
       "description\n",
       "911/NO  VOICE       457467\n",
       "DISORDERLY          237979\n",
       "COMMON ASSAULT      117475\n",
       "NARCOTICSOutside     95841\n",
       "FAMILY DISTURB       68107\n",
       "BURGLARY             55470\n",
       "SUSPICIOUS PERS      35117\n",
       "911/No Voice         32225\n",
       "Lab Request          31697\n",
       "AUTO THEFT           28210\n",
       "Name: description, dtype: int64"
      ]
     },
     "execution_count": 6,
     "metadata": {},
     "output_type": "execute_result"
    }
   ],
   "source": [
    "des_counts['Medium'][:10]"
   ]
  },
  {
   "cell_type": "code",
   "execution_count": 7,
   "id": "3bb15d9c-5415-4cbc-b84a-da3dcc200374",
   "metadata": {},
   "outputs": [
    {
     "data": {
      "text/plain": [
       "description\n",
       "Traffic Stop       147063\n",
       "SILENT ALARM        78618\n",
       "Field Interview     34562\n",
       "AUTO ACC/INJURY     27775\n",
       "RA POLICE           26804\n",
       "ARMED PERSON        21042\n",
       "AGGRAV ASSAULT      19492\n",
       "FIRE                10107\n",
       "ROBBERY ARMED        8731\n",
       "DISCHRG FIREARM      7075\n",
       "Name: description, dtype: int64"
      ]
     },
     "execution_count": 7,
     "metadata": {},
     "output_type": "execute_result"
    }
   ],
   "source": [
    "des_counts['High'][:10]"
   ]
  },
  {
   "cell_type": "code",
   "execution_count": 8,
   "id": "041a06b5-84a0-4ee8-ae67-53e7e9f33bed",
   "metadata": {},
   "outputs": [
    {
     "data": {
      "text/plain": [
       "description\n",
       "Repairs/Service     67050\n",
       "Other               25297\n",
       "Private Tow         23757\n",
       "Foot  Patrol        23092\n",
       "LOUD MUSIC          20443\n",
       "Repo                17201\n",
       "PRKG COMPLAINT      16222\n",
       "INVESTIGATE AUTO    14880\n",
       "FOLLOW UP           14398\n",
       "TOWED VEHICLE       12009\n",
       "Name: description, dtype: int64"
      ]
     },
     "execution_count": 8,
     "metadata": {},
     "output_type": "execute_result"
    }
   ],
   "source": [
    "des_counts['Non-Emergency'][:10]"
   ]
  },
  {
   "cell_type": "code",
   "execution_count": 9,
   "id": "c8f5f87c-1826-4267-80cf-cacbdaa716e3",
   "metadata": {},
   "outputs": [
    {
     "data": {
      "text/plain": [
       "description\n",
       "ASSIST OFFICER      437\n",
       "Immediate Inc       313\n",
       "ASSIST FIRE DEPT    193\n",
       "Mental Case          29\n",
       "ASSIST OFF.          20\n",
       "Other                 8\n",
       "Traffic Pursuit       2\n",
       "LOUD MUSIC            1\n",
       "POSSIBLE              1\n",
       "Name: description, dtype: int64"
      ]
     },
     "execution_count": 9,
     "metadata": {},
     "output_type": "execute_result"
    }
   ],
   "source": [
    "des_counts['Emergency'][:10]"
   ]
  },
  {
   "cell_type": "code",
   "execution_count": 10,
   "id": "a466a3b1-5e27-4c13-8055-fdfc6e0b1942",
   "metadata": {},
   "outputs": [
    {
     "data": {
      "text/plain": [
       "description\n",
       "LARCENCY           130\n",
       "LARCENY F/AUTO      87\n",
       "Private Tow         79\n",
       "TOWED VEHICLE       68\n",
       "Larceny f/Auto      25\n",
       "COMMON ASSAULT      23\n",
       "LOST PROPERTY       23\n",
       "Common Assault      22\n",
       "WANTED ON WARR      22\n",
       "Destruct Propty     18\n",
       "Name: description, dtype: int64"
      ]
     },
     "execution_count": 10,
     "metadata": {},
     "output_type": "execute_result"
    }
   ],
   "source": [
    "des_counts['Out of Service'][:10]"
   ]
  }
 ],
 "metadata": {
  "kernelspec": {
   "display_name": "Python 3 (ipykernel)",
   "language": "python",
   "name": "python3"
  },
  "language_info": {
   "codemirror_mode": {
    "name": "ipython",
    "version": 3
   },
   "file_extension": ".py",
   "mimetype": "text/x-python",
   "name": "python",
   "nbconvert_exporter": "python",
   "pygments_lexer": "ipython3",
   "version": "3.7.11"
  }
 },
 "nbformat": 4,
 "nbformat_minor": 5
}
