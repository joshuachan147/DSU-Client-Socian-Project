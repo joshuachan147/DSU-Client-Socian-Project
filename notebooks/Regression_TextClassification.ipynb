{
  "cells": [
    {
      "cell_type": "code",
      "execution_count": 1,
      "metadata": {
        "id": "W3lLvpzx4ikX"
      },
      "outputs": [
        {
          "ename": "ModuleNotFoundError",
          "evalue": "No module named 'sklearn'",
          "output_type": "error",
          "traceback": [
            "\u001b[0;31m---------------------------------------------------------------------------\u001b[0m",
            "\u001b[0;31mModuleNotFoundError\u001b[0m                       Traceback (most recent call last)",
            "\u001b[0;32m/var/folders/85/z7zv4j9160l6kw8m_yldjpmm0000gq/T/ipykernel_5009/1522347402.py\u001b[0m in \u001b[0;36m<module>\u001b[0;34m\u001b[0m\n\u001b[1;32m      1\u001b[0m \u001b[0;32mimport\u001b[0m \u001b[0mnumpy\u001b[0m \u001b[0;32mas\u001b[0m \u001b[0mnp\u001b[0m\u001b[0;34m\u001b[0m\u001b[0;34m\u001b[0m\u001b[0m\n\u001b[1;32m      2\u001b[0m \u001b[0;32mimport\u001b[0m \u001b[0mpandas\u001b[0m \u001b[0;32mas\u001b[0m \u001b[0mpd\u001b[0m\u001b[0;34m\u001b[0m\u001b[0;34m\u001b[0m\u001b[0m\n\u001b[0;32m----> 3\u001b[0;31m \u001b[0;32mfrom\u001b[0m \u001b[0msklearn\u001b[0m\u001b[0;34m.\u001b[0m\u001b[0mmodel_selection\u001b[0m \u001b[0;32mimport\u001b[0m \u001b[0mtrain_test_split\u001b[0m\u001b[0;34m\u001b[0m\u001b[0;34m\u001b[0m\u001b[0m\n\u001b[0m\u001b[1;32m      4\u001b[0m \u001b[0;32mfrom\u001b[0m \u001b[0msklearn\u001b[0m\u001b[0;34m.\u001b[0m\u001b[0mlinear_model\u001b[0m \u001b[0;32mimport\u001b[0m \u001b[0mLogisticRegression\u001b[0m\u001b[0;34m\u001b[0m\u001b[0;34m\u001b[0m\u001b[0m\n\u001b[1;32m      5\u001b[0m \u001b[0;32mfrom\u001b[0m \u001b[0msklearn\u001b[0m\u001b[0;34m.\u001b[0m\u001b[0mfeature_extraction\u001b[0m\u001b[0;34m.\u001b[0m\u001b[0mtext\u001b[0m \u001b[0;32mimport\u001b[0m \u001b[0mCountVectorizer\u001b[0m\u001b[0;34m,\u001b[0m\u001b[0mTfidfVectorizer\u001b[0m\u001b[0;34m\u001b[0m\u001b[0;34m\u001b[0m\u001b[0m\n",
            "\u001b[0;31mModuleNotFoundError\u001b[0m: No module named 'sklearn'"
          ]
        }
      ],
      "source": [
        "import numpy as np\n",
        "import pandas as pd\n",
        "from sklearn.model_selection import train_test_split\n",
        "from sklearn.linear_model import LogisticRegression\n",
        "from sklearn.feature_extraction.text import CountVectorizer,TfidfVectorizer"
      ]
    },
    {
      "cell_type": "code",
      "execution_count": 3,
      "metadata": {
        "id": "Z0PgjyofBEWR"
      },
      "outputs": [],
      "source": [
        "df  = pd.read_csv(\"../data/raw/baltimore_raw.csv\")"
      ]
    },
    {
      "cell_type": "code",
      "execution_count": 4,
      "metadata": {
        "colab": {
          "base_uri": "https://localhost:8080/"
        },
        "id": "iKvVMngaBqWf",
        "outputId": "a4c08c77-d13a-41fe-9db2-af9db83b3706"
      },
      "outputs": [
        {
          "name": "stdout",
          "output_type": "stream",
          "text": [
            "         Unnamed: 0  ...                  location\n",
            "0                 0  ...  (39.2899299,-76.6123462)\n",
            "1                 1  ...  (39.2906737,-76.6071600)\n",
            "2                 2  ...  (39.2898910,-76.6120720)\n",
            "3                 3  ...  (39.2985163,-76.6184754)\n",
            "4                 4  ...  (39.3112130,-76.6763150)\n",
            "...             ...  ...                       ...\n",
            "2799909     2799909  ...  (39.3297550,-76.6624990)\n",
            "2799910     2799910  ...  (39.3571560,-76.5608350)\n",
            "2799911     2799911  ...  (39.3104606,-76.6347099)\n",
            "2799912     2799912  ...  (39.3041617,-76.5979135)\n",
            "2799913     2799913  ...  (39.2934320,-76.6614790)\n",
            "\n",
            "[2799914 rows x 8 columns]\n"
          ]
        }
      ],
      "source": [
        "print(df)"
      ]
    },
    {
      "cell_type": "code",
      "execution_count": 6,
      "metadata": {
        "id": "i5QFcuaGBr71"
      },
      "outputs": [],
      "source": [
        "priorities = df['priority'].to_list()\n",
        "#prioritiesDict = df.set_index('priority')\n",
        "prioritiesDict = df.to_dict()['description']"
      ]
    },
    {
      "cell_type": "code",
      "execution_count": 7,
      "metadata": {
        "id": "qDk3dcefB0Mh"
      },
      "outputs": [],
      "source": [
        "count = df['priority'].value_counts()\n"
      ]
    },
    {
      "cell_type": "code",
      "execution_count": 9,
      "metadata": {
        "colab": {
          "base_uri": "https://localhost:8080/"
        },
        "id": "VjlBlr0CB-bS",
        "outputId": "b1003e57-54cd-476b-efff-d3042ed95165"
      },
      "outputs": [
        {
          "data": {
            "text/plain": [
              "array(['SEE TEXT', '911/NO  VOICE', '911/NO  VOICE', ...,\n",
              "       'JUV DISTURBANCE', 'COMMON ASSAULT', 'DISORDERLY'], dtype=object)"
            ]
          },
          "execution_count": 9,
          "metadata": {},
          "output_type": "execute_result"
        }
      ],
      "source": [
        "training_set = df['description'].values\n",
        "training_set"
      ]
    },
    {
      "cell_type": "code",
      "execution_count": null,
      "metadata": {
        "id": "QfWQuTbRCLSp"
      },
      "outputs": [],
      "source": []
    }
  ],
  "metadata": {
    "colab": {
      "name": "Regression_TextClassification",
      "provenance": []
    },
    "interpreter": {
      "hash": "a5fdd7c2be16aae202f2ab868844968bab70c30cb46c41df12101d1bb31b3960"
    },
    "kernelspec": {
      "display_name": "Python 3.7.11 64-bit ('.venv': pipenv)",
      "name": "python3"
    },
    "language_info": {
      "codemirror_mode": {
        "name": "ipython",
        "version": 3
      },
      "file_extension": ".py",
      "mimetype": "text/x-python",
      "name": "python",
      "nbconvert_exporter": "python",
      "pygments_lexer": "ipython3",
      "version": "3.7.11"
    }
  },
  "nbformat": 4,
  "nbformat_minor": 0
}
