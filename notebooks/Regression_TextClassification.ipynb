{
  "nbformat": 4,
  "nbformat_minor": 0,
  "metadata": {
    "colab": {
      "name": "Regression_TextClassification",
      "provenance": []
    },
    "kernelspec": {
      "name": "python3",
      "display_name": "Python 3"
    },
    "language_info": {
      "name": "python"
    }
  },
  "cells": [
    {
      "cell_type": "code",
      "metadata": {
        "id": "W3lLvpzx4ikX"
      },
      "source": [
        "import numpy as np\n",
        "import pandas as pd\n",
        "from sklearn.model_selection import train_test_split\n",
        "from sklearn.linear_model import LogisticRegression\n",
        "from sklearn.feature_extraction.text import CountVectorizer,TfidfVectorizer"
      ],
      "execution_count": null,
      "outputs": []
    },
    {
      "cell_type": "code",
      "metadata": {
        "id": "Z0PgjyofBEWR"
      },
      "source": [
        "df  = pd.read_csv(r\"/content/drive/MyDrive/911_calls_for_service.csv\")\n"
      ],
      "execution_count": 3,
      "outputs": []
    },
    {
      "cell_type": "code",
      "metadata": {
        "colab": {
          "base_uri": "https://localhost:8080/"
        },
        "id": "iKvVMngaBqWf",
        "outputId": "a4c08c77-d13a-41fe-9db2-af9db83b3706"
      },
      "source": [
        "print(df)"
      ],
      "execution_count": 4,
      "outputs": [
        {
          "output_type": "stream",
          "name": "stdout",
          "text": [
            "         Unnamed: 0  ...                  location\n",
            "0                 0  ...  (39.2899299,-76.6123462)\n",
            "1                 1  ...  (39.2906737,-76.6071600)\n",
            "2                 2  ...  (39.2898910,-76.6120720)\n",
            "3                 3  ...  (39.2985163,-76.6184754)\n",
            "4                 4  ...  (39.3112130,-76.6763150)\n",
            "...             ...  ...                       ...\n",
            "2799909     2799909  ...  (39.3297550,-76.6624990)\n",
            "2799910     2799910  ...  (39.3571560,-76.5608350)\n",
            "2799911     2799911  ...  (39.3104606,-76.6347099)\n",
            "2799912     2799912  ...  (39.3041617,-76.5979135)\n",
            "2799913     2799913  ...  (39.2934320,-76.6614790)\n",
            "\n",
            "[2799914 rows x 8 columns]\n"
          ]
        }
      ]
    },
    {
      "cell_type": "code",
      "metadata": {
        "id": "i5QFcuaGBr71"
      },
      "source": [
        "priorities = df['priority'].to_list()\n",
        "#prioritiesDict = df.set_index('priority')\n",
        "prioritiesDict = df.to_dict()['description']"
      ],
      "execution_count": 6,
      "outputs": []
    },
    {
      "cell_type": "code",
      "metadata": {
        "id": "qDk3dcefB0Mh"
      },
      "source": [
        "count = df['priority'].value_counts()\n"
      ],
      "execution_count": 7,
      "outputs": []
    },
    {
      "cell_type": "code",
      "metadata": {
        "colab": {
          "base_uri": "https://localhost:8080/"
        },
        "id": "VjlBlr0CB-bS",
        "outputId": "b1003e57-54cd-476b-efff-d3042ed95165"
      },
      "source": [
        "training_set = df['description'].values\n",
        "training_set"
      ],
      "execution_count": 9,
      "outputs": [
        {
          "output_type": "execute_result",
          "data": {
            "text/plain": [
              "array(['SEE TEXT', '911/NO  VOICE', '911/NO  VOICE', ...,\n",
              "       'JUV DISTURBANCE', 'COMMON ASSAULT', 'DISORDERLY'], dtype=object)"
            ]
          },
          "metadata": {},
          "execution_count": 9
        }
      ]
    },
    {
      "cell_type": "code",
      "metadata": {
        "id": "QfWQuTbRCLSp"
      },
      "source": [
        ""
      ],
      "execution_count": null,
      "outputs": []
    }
  ]
}